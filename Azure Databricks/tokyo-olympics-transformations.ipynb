{
 "cells": [
  {
   "cell_type": "markdown",
   "metadata": {
    "application/vnd.databricks.v1+cell": {
     "cellMetadata": {},
     "inputWidgets": {},
     "nuid": "e4a33c88-4e81-49df-83ed-07d0b6c4fda8",
     "showTitle": false,
     "tableResultSettingsMap": {},
     "title": ""
    }
   },
   "source": [
    "##### Secret Key and Scope"
   ]
  },
  {
   "cell_type": "code",
   "execution_count": 0,
   "metadata": {
    "application/vnd.databricks.v1+cell": {
     "cellMetadata": {
      "byteLimit": 2048000,
      "rowLimit": 10000
     },
     "inputWidgets": {},
     "nuid": "8b0b85a1-8272-46b9-9052-c287409610b3",
     "showTitle": false,
     "tableResultSettingsMap": {},
     "title": ""
    }
   },
   "outputs": [],
   "source": [
    "df=dbutils.secrets.get(scope=\"key-vault-scope\",key=\"app-secrect-key\")"
   ]
  },
  {
   "cell_type": "code",
   "execution_count": 0,
   "metadata": {
    "application/vnd.databricks.v1+cell": {
     "cellMetadata": {
      "byteLimit": 2048000,
      "rowLimit": 10000
     },
     "inputWidgets": {},
     "nuid": "43376fa4-44e8-435c-8a93-3e520c666d1c",
     "showTitle": false,
     "tableResultSettingsMap": {},
     "title": ""
    }
   },
   "outputs": [],
   "source": [
    "dbutils.secrets.listScopes()"
   ]
  },
  {
   "cell_type": "markdown",
   "metadata": {
    "application/vnd.databricks.v1+cell": {
     "cellMetadata": {},
     "inputWidgets": {},
     "nuid": "be822c7d-e5bc-47d7-a04c-2bb1cd608fae",
     "showTitle": false,
     "tableResultSettingsMap": {},
     "title": ""
    }
   },
   "source": [
    "##### Azure Datalake storage with Databricks"
   ]
  },
  {
   "cell_type": "code",
   "execution_count": 0,
   "metadata": {
    "application/vnd.databricks.v1+cell": {
     "cellMetadata": {
      "byteLimit": 2048000,
      "rowLimit": 10000
     },
     "inputWidgets": {},
     "nuid": "7be5576b-14c8-4204-b6a3-9c9607f50061",
     "showTitle": false,
     "tableResultSettingsMap": {},
     "title": ""
    }
   },
   "outputs": [],
   "source": [
    "configs = {\"fs.azure.account.auth.type\": \"OAuth\",\n",
    "          \"fs.azure.account.oauth.provider.type\": \"org.apache.hadoop.fs.azurebfs.oauth2.ClientCredsTokenProvider\",\n",
    "          \"fs.azure.account.oauth2.client.id\": \"56c1b601-2d0b-456e-966f-5153657934c6\",\n",
    "          \"fs.azure.account.oauth2.client.secret\": dbutils.secrets.get(scope=\"key-vault-scope\",key=\"app-secrect-key\"),\n",
    "          \"fs.azure.account.oauth2.client.endpoint\": \"https://login.microsoftonline.com/fdc798aa-6f15-4e72-bf4a-6c813690fc75/oauth2/token\"}\n",
    "\n",
    "# Optionally, you can add <directory-name> to the source URI of your mount point.\n",
    "dbutils.fs.mount(\n",
    "  source = \"abfss://tokyo-olympics@adlsgen2tokyoolympics.dfs.core.windows.net/\",\n",
    "  mount_point = \"/mnt/tokyo-olympics-data\",\n",
    "  extra_configs = configs)"
   ]
  },
  {
   "cell_type": "code",
   "execution_count": 0,
   "metadata": {
    "application/vnd.databricks.v1+cell": {
     "cellMetadata": {
      "byteLimit": 2048000,
      "rowLimit": 10000
     },
     "inputWidgets": {},
     "nuid": "df73bb95-3b4e-4db2-82ba-b822c9e30be6",
     "showTitle": false,
     "tableResultSettingsMap": {},
     "title": ""
    }
   },
   "outputs": [],
   "source": [
    "%fs\n",
    "ls mnt/tokyo-olympics-data"
   ]
  },
  {
   "cell_type": "code",
   "execution_count": 0,
   "metadata": {
    "application/vnd.databricks.v1+cell": {
     "cellMetadata": {
      "byteLimit": 2048000,
      "rowLimit": 10000
     },
     "inputWidgets": {},
     "nuid": "d27398a2-cc30-4c8d-83fe-7c17ee3923f3",
     "showTitle": false,
     "tableResultSettingsMap": {},
     "title": ""
    }
   },
   "outputs": [],
   "source": [
    "%fs\n",
    "ls mnt/tokyo-olympics-data/raw-data"
   ]
  },
  {
   "cell_type": "markdown",
   "metadata": {
    "application/vnd.databricks.v1+cell": {
     "cellMetadata": {},
     "inputWidgets": {},
     "nuid": "1ac99858-af12-400f-92d7-95c2b764e61d",
     "showTitle": false,
     "tableResultSettingsMap": {},
     "title": ""
    }
   },
   "source": [
    "###Tokyo Olmpics Transformation"
   ]
  },
  {
   "cell_type": "markdown",
   "metadata": {
    "application/vnd.databricks.v1+cell": {
     "cellMetadata": {},
     "inputWidgets": {},
     "nuid": "7ba38b50-9eae-4720-a031-b7305b2d1f62",
     "showTitle": false,
     "tableResultSettingsMap": {},
     "title": ""
    }
   },
   "source": [
    "#####\"Medals Overview\" Transformations"
   ]
  },
  {
   "cell_type": "code",
   "execution_count": 0,
   "metadata": {
    "application/vnd.databricks.v1+cell": {
     "cellMetadata": {
      "byteLimit": 2048000,
      "rowLimit": 10000
     },
     "inputWidgets": {},
     "nuid": "123ca093-5633-4ffd-b221-29745ce9c4f0",
     "showTitle": false,
     "tableResultSettingsMap": {},
     "title": ""
    }
   },
   "outputs": [],
   "source": [
    "from pyspark.sql import SparkSession\n",
    "from pyspark.sql.functions import col, sum as _sum, rank\n",
    "from pyspark.sql.window import Window\n",
    "\n",
    "# Create Spark session (if not already created)\n",
    "spark = SparkSession.builder.appName(\"TokyoOlympics\").getOrCreate()\n",
    "\n",
    "# Load the medals table from the mounted Parquet path\n",
    "medals_path = \"/mnt/tokyo-olympics-data/raw-data/medals.parquet\"\n",
    "medals_df = spark.read.format(\"parquet\").load(medals_path)\n",
    "medals_df.show()\n",
    "# Transformation 1: Aggregate medal counts by TeamNOC\n",
    "medals_summary = medals_df.groupBy(\"TeamNOC\").agg(\n",
    "    _sum(\"Gold\").alias(\"TotalGold\"),\n",
    "    _sum(\"Silver\").alias(\"TotalSilver\"),\n",
    "    _sum(\"Bronze\").alias(\"TotalBronze\"),\n",
    "    _sum(\"Total\").alias(\"TotalMedals\")\n",
    ")\n",
    "\n",
    "# Transformation 2: Rank countries by Total Medals and Gold Medals\n",
    "windowSpecTotal = Window.orderBy(col(\"TotalMedals\").desc())\n",
    "windowSpecGold = Window.orderBy(col(\"TotalGold\").desc())\n",
    "\n",
    "ranked_medals = medals_summary.withColumn(\"RankByTotalMedals\", rank().over(windowSpecTotal)) \\\n",
    "                               .withColumn(\"RankByGoldMedals\", rank().over(windowSpecGold))\n",
    "\n",
    "# Save the transformed data back to a Parquet file in ADLS\n",
    "output_path = \"/mnt/tokyo-olympics-data/transformed-data/medals_summary\"\n",
    "ranked_medals.write.format(\"parquet\").mode(\"overwrite\").save(output_path)\n",
    "\n",
    "# Display the final DataFrame\n",
    "ranked_medals.show()\n"
   ]
  },
  {
   "cell_type": "code",
   "execution_count": 0,
   "metadata": {
    "application/vnd.databricks.v1+cell": {
     "cellMetadata": {
      "byteLimit": 2048000,
      "rowLimit": 10000
     },
     "inputWidgets": {},
     "nuid": "9992c2a2-d498-4620-9c0d-6c5a7e15bf68",
     "showTitle": false,
     "tableResultSettingsMap": {},
     "title": ""
    }
   },
   "outputs": [],
   "source": [
    "%fs\n",
    "ls /mnt/tokyo-olympics-data/transformed-data"
   ]
  },
  {
   "cell_type": "markdown",
   "metadata": {
    "application/vnd.databricks.v1+cell": {
     "cellMetadata": {},
     "inputWidgets": {},
     "nuid": "cba91163-ffc8-4d39-b2c8-fa4e10e0d8f1",
     "showTitle": false,
     "tableResultSettingsMap": {},
     "title": ""
    }
   },
   "source": [
    "#####\"Athletes Participation\" Transformations"
   ]
  },
  {
   "cell_type": "code",
   "execution_count": 0,
   "metadata": {
    "application/vnd.databricks.v1+cell": {
     "cellMetadata": {
      "byteLimit": 2048000,
      "rowLimit": 10000
     },
     "inputWidgets": {},
     "nuid": "380b0dcf-135c-4316-bbe0-54717e7e1b20",
     "showTitle": false,
     "tableResultSettingsMap": {},
     "title": ""
    }
   },
   "outputs": [],
   "source": [
    "from pyspark.sql.functions import countDistinct\n",
    "\n",
    "# Load the athletes table from the mounted Parquet path\n",
    "athletes_path = \"/mnt/tokyo-olympics-data/raw-data/athletes.parquet\"\n",
    "athletes_df = spark.read.format(\"parquet\").load(athletes_path)\n",
    "\n",
    "# Transformation 1: Count athletes grouped by NOC and Discipline\n",
    "athletes_summary = athletes_df.groupBy(\"NOC\", \"Discipline\").agg(\n",
    "    countDistinct(\"Name\").alias(\"TotalAthletes\")\n",
    ")\n",
    "\n",
    "# Transformation 2: Get distinct athletes with their NOC and Discipline\n",
    "distinct_athletes = athletes_df.select(\"Name\", \"NOC\", \"Discipline\").distinct()\n",
    "\n",
    "# Save the transformed data back to ADLS\n",
    "athletes_summary_path = \"/mnt/tokyo-olympics-data/transformed-data/athletes_summary\"\n",
    "distinct_athletes_path = \"/mnt/tokyo-olympics-data/transformed-data/distinct_athletes\"\n",
    "\n",
    "athletes_summary.write.format(\"parquet\").mode(\"overwrite\").save(athletes_summary_path)\n",
    "distinct_athletes.write.format(\"parquet\").mode(\"overwrite\").save(distinct_athletes_path)\n",
    "\n",
    "# Display the results\n",
    "athletes_summary.show()\n",
    "distinct_athletes.show()\n"
   ]
  },
  {
   "cell_type": "markdown",
   "metadata": {
    "application/vnd.databricks.v1+cell": {
     "cellMetadata": {},
     "inputWidgets": {},
     "nuid": "a6c4bbb6-33ea-4f6d-a013-42cc193843ea",
     "showTitle": false,
     "tableResultSettingsMap": {},
     "title": ""
    }
   },
   "source": [
    "#####\"Gender Distribution\" Transformations"
   ]
  },
  {
   "cell_type": "code",
   "execution_count": 0,
   "metadata": {
    "application/vnd.databricks.v1+cell": {
     "cellMetadata": {
      "byteLimit": 2048000,
      "rowLimit": 10000
     },
     "inputWidgets": {},
     "nuid": "42480302-2598-4600-bda0-45276f80ffa4",
     "showTitle": false,
     "tableResultSettingsMap": {},
     "title": ""
    }
   },
   "outputs": [],
   "source": [
    "from pyspark.sql.functions import col, expr\n",
    "\n",
    "# Load the entriesgender table from the mounted Parquet path\n",
    "entriesgender_path = \"/mnt/tokyo-olympics-data/raw-data/entriesgender.parquet\"\n",
    "entriesgender_df = spark.read.format(\"parquet\").load(entriesgender_path)\n",
    "\n",
    "# Transformation 1: Aggregate gender-wise participation by Discipline\n",
    "gender_summary = entriesgender_df.select(\"Discipline\",\n",
    "    col(\"Female\").cast(\"int\").alias(\"FemaleParticipants\"),\n",
    "    col(\"Male\").cast(\"int\").alias(\"MaleParticipants\"),\n",
    "    col(\"Total\").cast(\"int\").alias(\"TotalParticipants\")\n",
    ")\n",
    "\n",
    "# Transformation 2: Calculate gender ratio (Female and Male percentage)\n",
    "gender_ratio = gender_summary.withColumn(\n",
    "    \"FemalePercentage\", expr(\"ROUND((FemaleParticipants / TotalParticipants) * 100, 2)\")\n",
    ").withColumn(\n",
    "    \"MalePercentage\", expr(\"ROUND((MaleParticipants / TotalParticipants) * 100, 2)\")\n",
    ")\n",
    "\n",
    "# Save the transformed data back to ADLS\n",
    "gender_summary_path = \"/mnt/tokyo-olympics-data/transformed-data/gender_summary\"\n",
    "\n",
    "gender_ratio.write.format(\"parquet\").mode(\"overwrite\").save(gender_summary_path)\n",
    "\n",
    "# Display the results\n",
    "gender_ratio.show()\n"
   ]
  },
  {
   "cell_type": "markdown",
   "metadata": {
    "application/vnd.databricks.v1+cell": {
     "cellMetadata": {},
     "inputWidgets": {},
     "nuid": "b1bfadf9-1d78-4a1d-9d0e-8a8408e64758",
     "showTitle": false,
     "tableResultSettingsMap": {},
     "title": ""
    }
   },
   "source": [
    "#####\"Event Insights\" Transformations"
   ]
  },
  {
   "cell_type": "code",
   "execution_count": 0,
   "metadata": {
    "application/vnd.databricks.v1+cell": {
     "cellMetadata": {
      "byteLimit": 2048000,
      "rowLimit": 10000
     },
     "inputWidgets": {},
     "nuid": "69492937-fe5f-4845-b73b-ae89d70d6a5e",
     "showTitle": false,
     "tableResultSettingsMap": {},
     "title": ""
    }
   },
   "outputs": [],
   "source": [
    "from pyspark.sql.functions import countDistinct\n",
    "\n",
    "# Load the teams table from the mounted Parquet path\n",
    "teams_path = \"/mnt/tokyo-olympics-data/raw-data/teams.parquet\"\n",
    "teams_df = spark.read.format(\"parquet\").load(teams_path)\n",
    "\n",
    "# Transformation 1: Count unique events grouped by NOC and Discipline\n",
    "events_summary = teams_df.groupBy(\"NOC\", \"Discipline\").agg(\n",
    "    countDistinct(\"Event\").alias(\"UniqueEventCount\")\n",
    ")\n",
    "\n",
    "# Transformation 2: Get a distinct list of events for detailed analysis\n",
    "distinct_events = teams_df.select(\"Event\", \"NOC\", \"Discipline\").distinct()\n",
    "\n",
    "# Save the transformed data back to ADLS\n",
    "events_summary_path = \"/mnt/tokyo-olympics-data/transformed-data/events_summary\"\n",
    "distinct_events_path = \"/mnt/tokyo-olympics-data/transformed-data/distinct_events\"\n",
    "\n",
    "events_summary.write.format(\"parquet\").mode(\"overwrite\").save(events_summary_path)\n",
    "distinct_events.write.format(\"parquet\").mode(\"overwrite\").save(distinct_events_path)\n",
    "\n",
    "# Display the results\n",
    "events_summary.show()\n",
    "distinct_events.show()\n"
   ]
  },
  {
   "cell_type": "markdown",
   "metadata": {
    "application/vnd.databricks.v1+cell": {
     "cellMetadata": {},
     "inputWidgets": {},
     "nuid": "0b17a6da-0d08-44a8-9982-d0e9df9a629a",
     "showTitle": false,
     "tableResultSettingsMap": {},
     "title": ""
    }
   },
   "source": [
    "#####\"Top Countries and Rankings\" Transformations"
   ]
  },
  {
   "cell_type": "code",
   "execution_count": 0,
   "metadata": {
    "application/vnd.databricks.v1+cell": {
     "cellMetadata": {
      "byteLimit": 2048000,
      "rowLimit": 10000
     },
     "inputWidgets": {},
     "nuid": "1142d0ff-9a0a-421b-8bd6-2c923008736e",
     "showTitle": false,
     "tableResultSettingsMap": {},
     "title": ""
    }
   },
   "outputs": [],
   "source": [
    "from pyspark.sql.functions import col, expr, rank\n",
    "from pyspark.sql.window import Window\n",
    "\n",
    "# Load the medals table from the mounted Parquet path\n",
    "medals_path = \"/mnt/tokyo-olympics-data/raw-data/medals.parquet\"\n",
    "medals_df = spark.read.format(\"parquet\").load(medals_path)\n",
    "\n",
    "# Transformation 1: Add percentages for Gold, Silver, and Bronze medals\n",
    "medals_with_percentages = medals_df.withColumn(\n",
    "    \"GoldPercentage\", expr(\"ROUND((Gold / Total) * 100, 2)\")\n",
    ").withColumn(\n",
    "    \"SilverPercentage\", expr(\"ROUND((Silver / Total) * 100, 2)\")\n",
    ").withColumn(\n",
    "    \"BronzePercentage\", expr(\"ROUND((Bronze / Total) * 100, 2)\")\n",
    ")\n",
    "\n",
    "# Transformation 2: Rank countries by Total Medals and Gold Medals\n",
    "windowSpecTotal = Window.orderBy(col(\"Total\").desc())\n",
    "windowSpecGold = Window.orderBy(col(\"Gold\").desc())\n",
    "\n",
    "ranked_countries = medals_with_percentages.withColumn(\n",
    "    \"RankByTotal\", rank().over(windowSpecTotal)\n",
    ").withColumn(\n",
    "    \"RankByGold\", rank().over(windowSpecGold)\n",
    ")\n",
    "\n",
    "# Transformation 3: Filter top 10 countries by total medals\n",
    "top_10_countries = ranked_countries.filter(col(\"RankByTotal\") <= 10)\n",
    "\n",
    "# Save the transformed data back to ADLS\n",
    "ranked_countries_path = \"/mnt/tokyo-olympics-data/transformed-data/ranked_countries\"\n",
    "top_10_countries_path = \"/mnt/tokyo-olympics-data/transformed-data/top_10_countries\"\n",
    "\n",
    "ranked_countries.write.format(\"parquet\").mode(\"overwrite\").save(ranked_countries_path)\n",
    "top_10_countries.write.format(\"parquet\").mode(\"overwrite\").save(top_10_countries_path)\n",
    "\n",
    "# Display the results\n",
    "ranked_countries.show()\n",
    "top_10_countries.show()\n"
   ]
  },
  {
   "cell_type": "markdown",
   "metadata": {
    "application/vnd.databricks.v1+cell": {
     "cellMetadata": {},
     "inputWidgets": {},
     "nuid": "3574516e-7b32-4d17-b691-07c39759e6c0",
     "showTitle": false,
     "tableResultSettingsMap": {},
     "title": ""
    }
   },
   "source": [
    "#####\"Athlete Highlights\" Transformations"
   ]
  },
  {
   "cell_type": "code",
   "execution_count": 0,
   "metadata": {
    "application/vnd.databricks.v1+cell": {
     "cellMetadata": {
      "byteLimit": 2048000,
      "rowLimit": 10000
     },
     "inputWidgets": {},
     "nuid": "615cf9cf-b904-4db2-abb2-19a5a5ced5b2",
     "showTitle": false,
     "tableResultSettingsMap": {},
     "title": ""
    }
   },
   "outputs": [],
   "source": [
    "from pyspark.sql.functions import col, count, sum as _sum, rank\n",
    "from pyspark.sql.window import Window\n",
    "\n",
    "# Load the athletes and medals tables\n",
    "athletes_path = \"/mnt/tokyo-olympics-data/raw-data/athletes.parquet\"\n",
    "medals_path = \"/mnt/tokyo-olympics-data/raw-data/medals.parquet\"\n",
    "\n",
    "athletes_df = spark.read.format(\"parquet\").load(athletes_path)\n",
    "medals_df = spark.read.format(\"parquet\").load(medals_path)\n",
    "\n",
    "# Transformation 1: Join athletes with medals data on NOC\n",
    "athletes_with_medals = athletes_df.join(\n",
    "    medals_df,\n",
    "    athletes_df.NOC == medals_df.TeamNOC,\n",
    "    how=\"left\"\n",
    ").select(\n",
    "    col(\"Name\"),\n",
    "    col(\"NOC\"),\n",
    "    col(\"Discipline\"),\n",
    "    col(\"Gold\"),\n",
    "    col(\"Silver\"),\n",
    "    col(\"Bronze\"),\n",
    "    col(\"Total\")\n",
    ")\n",
    "\n",
    "# Transformation 2: Aggregate top-performing athletes by NOC and Discipline\n",
    "top_athletes = athletes_with_medals.groupBy(\"NOC\", \"Discipline\").agg(\n",
    "    count(\"Name\").alias(\"TotalAthletes\"),\n",
    "    _sum(\"Gold\").alias(\"TotalGold\"),\n",
    "    _sum(\"Silver\").alias(\"TotalSilver\"),\n",
    "    _sum(\"Bronze\").alias(\"TotalBronze\"),\n",
    "    _sum(\"Total\").alias(\"TotalMedals\")\n",
    ")\n",
    "\n",
    "# Transformation 3: Rank disciplines within each NOC by total medals\n",
    "windowSpec = Window.partitionBy(\"NOC\").orderBy(col(\"TotalMedals\").desc())\n",
    "ranked_athletes = top_athletes.withColumn(\"RankByMedals\", rank().over(windowSpec))\n",
    "\n",
    "# Save the transformed data back to ADLS\n",
    "athletes_with_medals_path = \"/mnt/tokyo-olympics-data/transformed-data/athletes_with_medals\"\n",
    "ranked_athletes_path = \"/mnt/tokyo-olympics-data/transformed-data/ranked_athletes\"\n",
    "\n",
    "athletes_with_medals.write.format(\"parquet\").mode(\"overwrite\").save(athletes_with_medals_path)\n",
    "ranked_athletes.write.format(\"parquet\").mode(\"overwrite\").save(ranked_athletes_path)\n",
    "\n",
    "# Display the results\n",
    "athletes_with_medals.show()\n",
    "ranked_athletes.show()\n"
   ]
  },
  {
   "cell_type": "markdown",
   "metadata": {
    "application/vnd.databricks.v1+cell": {
     "cellMetadata": {},
     "inputWidgets": {},
     "nuid": "07678412-d6a4-49e9-b0dd-407007bd9f9a",
     "showTitle": false,
     "tableResultSettingsMap": {},
     "title": ""
    }
   },
   "source": [
    "#####\"Discipline Insights\" Transformations"
   ]
  },
  {
   "cell_type": "code",
   "execution_count": 0,
   "metadata": {
    "application/vnd.databricks.v1+cell": {
     "cellMetadata": {
      "byteLimit": 2048000,
      "rowLimit": 10000
     },
     "inputWidgets": {},
     "nuid": "335ea51d-d4b7-46d0-a693-c7bed3666b96",
     "showTitle": false,
     "tableResultSettingsMap": {},
     "title": ""
    }
   },
   "outputs": [],
   "source": [
    "from pyspark.sql.functions import col, sum as _sum, expr, rank\n",
    "from pyspark.sql.window import Window\n",
    "\n",
    "# Load the athletes and entriesgender tables\n",
    "athletes_path = \"/mnt/tokyo-olympics-data/raw-data/athletes.parquet\"\n",
    "entriesgender_path = \"/mnt/tokyo-olympics-data/raw-data/entriesgender.parquet\"\n",
    "\n",
    "athletes_df = spark.read.format(\"parquet\").load(athletes_path)\n",
    "entriesgender_df = spark.read.format(\"parquet\").load(entriesgender_path)\n",
    "\n",
    "# Transformation 1: Calculate the total number of athletes per discipline\n",
    "discipline_athletes = athletes_df.groupBy(\"Discipline\").agg(\n",
    "    _sum(expr(\"1\")).alias(\"TotalAthletes\")\n",
    ")\n",
    "\n",
    "# Transformation 2: Combine with gender distribution data\n",
    "discipline_insights = discipline_athletes.join(\n",
    "    entriesgender_df,\n",
    "    \"Discipline\",\n",
    "    how=\"inner\"\n",
    ").select(\n",
    "    col(\"Discipline\"),\n",
    "    col(\"TotalAthletes\"),\n",
    "    col(\"Female\").cast(\"int\").alias(\"FemaleParticipants\"),\n",
    "    col(\"Male\").cast(\"int\").alias(\"MaleParticipants\"),\n",
    "    col(\"Total\").cast(\"int\").alias(\"TotalParticipants\")\n",
    ").withColumn(\n",
    "    \"FemalePercentage\", expr(\"ROUND((FemaleParticipants / TotalParticipants) * 100, 2)\")\n",
    ").withColumn(\n",
    "    \"MalePercentage\", expr(\"ROUND((MaleParticipants / TotalParticipants) * 100, 2)\")\n",
    ")\n",
    "\n",
    "# Transformation 3: Rank disciplines by total participation and female percentage\n",
    "windowSpecTotal = Window.orderBy(col(\"TotalParticipants\").desc())\n",
    "windowSpecFemale = Window.orderBy(col(\"FemalePercentage\").desc())\n",
    "\n",
    "ranked_disciplines = discipline_insights.withColumn(\n",
    "    \"RankByTotalParticipants\", rank().over(windowSpecTotal)\n",
    ").withColumn(\n",
    "    \"RankByFemalePercentage\", rank().over(windowSpecFemale)\n",
    ")\n",
    "\n",
    "# Save the transformed data back to ADLS\n",
    "discipline_insights_path = \"/mnt/tokyo-olympics-data/transformed-data/discipline_insights\"\n",
    "ranked_disciplines_path = \"/mnt/tokyo-olympics-data/transformed-data/ranked_disciplines\"\n",
    "\n"
   ]
  },
  {
   "cell_type": "markdown",
   "metadata": {
    "application/vnd.databricks.v1+cell": {
     "cellMetadata": {},
     "inputWidgets": {},
     "nuid": "ae26cd15-3260-4317-a201-2121b5159d1e",
     "showTitle": false,
     "tableResultSettingsMap": {},
     "title": ""
    }
   },
   "source": [
    "#####\"Country-Level Performance Insights\" Transformations"
   ]
  },
  {
   "cell_type": "code",
   "execution_count": 0,
   "metadata": {
    "application/vnd.databricks.v1+cell": {
     "cellMetadata": {
      "byteLimit": 2048000,
      "rowLimit": 10000
     },
     "inputWidgets": {},
     "nuid": "1f698cef-5f92-4da3-942c-f8a3d88398a5",
     "showTitle": false,
     "tableResultSettingsMap": {},
     "title": ""
    }
   },
   "outputs": [],
   "source": [
    "from pyspark.sql.functions import col, count, sum as _sum, expr, rank\n",
    "from pyspark.sql.window import Window\n",
    "\n",
    "# Load the athletes and medals tables\n",
    "athletes_path = \"/mnt/tokyo-olympics-data/raw-data/athletes.parquet\"\n",
    "medals_path = \"/mnt/tokyo-olympics-data/raw-data/medals.parquet\"\n",
    "\n",
    "athletes_df = spark.read.format(\"parquet\").load(athletes_path)\n",
    "medals_df = spark.read.format(\"parquet\").load(medals_path)\n",
    "\n",
    "# Transformation 1: Calculate total number of athletes per country\n",
    "country_athletes = athletes_df.groupBy(\"NOC\").agg(\n",
    "    count(\"Name\").alias(\"TotalAthletes\")\n",
    ")\n",
    "\n",
    "# Transformation 2: Merge medals data with athlete counts\n",
    "country_performance = medals_df.join(\n",
    "    country_athletes,\n",
    "    medals_df.TeamNOC == country_athletes.NOC,\n",
    "    how=\"inner\"\n",
    ").select(\n",
    "    col(\"TeamNOC\").alias(\"NOC\"),\n",
    "    col(\"TotalAthletes\"),\n",
    "    col(\"Gold\"),\n",
    "    col(\"Silver\"),\n",
    "    col(\"Bronze\"),\n",
    "    col(\"Total\").alias(\"TotalMedals\")\n",
    ")\n",
    "\n",
    "# Transformation 3: Calculate average medals per athlete\n",
    "country_performance = country_performance.withColumn(\n",
    "    \"AvgMedalsPerAthlete\", expr(\"ROUND(TotalMedals / TotalAthletes, 2)\")\n",
    ")\n",
    "\n",
    "# Transformation 4: Rank countries based on total medals and average medals per athlete\n",
    "windowSpecTotal = Window.orderBy(col(\"TotalMedals\").desc())\n",
    "windowSpecAvg = Window.orderBy(col(\"AvgMedalsPerAthlete\").desc())\n",
    "\n",
    "ranked_countries = country_performance.withColumn(\n",
    "    \"RankByTotalMedals\", rank().over(windowSpecTotal)\n",
    ").withColumn(\n",
    "    \"RankByAvgMedalsPerAthlete\", rank().over(windowSpecAvg)\n",
    ")\n",
    "\n",
    "# Save the transformed data back to ADLS\n",
    "country_performance_path = \"/mnt/tokyo-olympics-data/transformed-data/country_performance\"\n",
    "ranked_countries_path = \"/mnt/tokyo-olympics-data/transformed-data/ranked_countries_performance\"\n",
    "\n",
    "country_performance.write.format(\"parquet\").mode(\"overwrite\").save(country_performance_path)\n",
    "ranked_countries.write.format(\"parquet\").mode(\"overwrite\").save(ranked_countries_path)\n",
    "\n",
    "# Display the results\n",
    "country_performance.show()\n",
    "ranked_countries.show()\n"
   ]
  },
  {
   "cell_type": "markdown",
   "metadata": {
    "application/vnd.databricks.v1+cell": {
     "cellMetadata": {},
     "inputWidgets": {},
     "nuid": "45f44812-abcd-439a-8d72-291c42d7c8cc",
     "showTitle": false,
     "tableResultSettingsMap": {},
     "title": ""
    }
   },
   "source": [
    "#####\"Medal Trends by Discipline and Country\" Transformations"
   ]
  },
  {
   "cell_type": "code",
   "execution_count": 0,
   "metadata": {
    "application/vnd.databricks.v1+cell": {
     "cellMetadata": {
      "byteLimit": 2048000,
      "rowLimit": 10000
     },
     "inputWidgets": {},
     "nuid": "5127bb02-0de8-4bdd-b92b-8f99742392b9",
     "showTitle": false,
     "tableResultSettingsMap": {},
     "title": ""
    }
   },
   "outputs": [],
   "source": [
    "from pyspark.sql.functions import col, sum as _sum, rank\n",
    "from pyspark.sql.window import Window\n",
    "\n",
    "# Load the medals and teams tables\n",
    "medals_path = \"/mnt/tokyo-olympics-data/raw-data/medals.parquet\"\n",
    "teams_path = \"/mnt/tokyo-olympics-data/raw-data/teams.parquet\"\n",
    "\n",
    "medals_df = spark.read.format(\"parquet\").load(medals_path)\n",
    "teams_df = spark.read.format(\"parquet\").load(teams_path)\n",
    "\n",
    "# Transformation 1: Join medals data with teams to associate disciplines with medals\n",
    "medals_by_discipline = medals_df.join(\n",
    "    teams_df,\n",
    "    medals_df.TeamNOC == teams_df.NOC,\n",
    "    how=\"inner\"\n",
    ").select(\n",
    "    col(\"TeamNOC\").alias(\"NOC\"),\n",
    "    col(\"Discipline\"),\n",
    "    col(\"Gold\"),\n",
    "    col(\"Silver\"),\n",
    "    col(\"Bronze\"),\n",
    "    col(\"Total\").alias(\"TotalMedals\")\n",
    ")\n",
    "\n",
    "# Transformation 2: Calculate total medals by discipline and NOC\n",
    "discipline_medals = medals_by_discipline.groupBy(\"NOC\", \"Discipline\").agg(\n",
    "    _sum(\"Gold\").alias(\"TotalGold\"),\n",
    "    _sum(\"Silver\").alias(\"TotalSilver\"),\n",
    "    _sum(\"Bronze\").alias(\"TotalBronze\"),\n",
    "    _sum(\"TotalMedals\").alias(\"TotalMedalsByDiscipline\")\n",
    ")\n",
    "\n",
    "# Transformation 3: Rank disciplines within each country by total medals\n",
    "windowSpec = Window.partitionBy(\"NOC\").orderBy(col(\"TotalMedalsByDiscipline\").desc())\n",
    "\n",
    "ranked_disciplines_by_country = discipline_medals.withColumn(\n",
    "    \"RankByDiscipline\", rank().over(windowSpec)\n",
    ")\n",
    "\n",
    "# Save the transformed data back to ADLS\n",
    "discipline_medals_path = \"/mnt/tokyo-olympics-data/transformed-data/discipline_medals\"\n",
    "ranked_disciplines_path = \"/mnt/tokyo-olympics-data/transformed-data/ranked_disciplines_by_country\"\n",
    "\n",
    "discipline_medals.write.format(\"parquet\").mode(\"overwrite\").save(discipline_medals_path)\n",
    "ranked_disciplines_by_country.write.format(\"parquet\").mode(\"overwrite\").save(ranked_disciplines_path)\n",
    "\n",
    "# Display the results\n",
    "discipline_medals.show()\n",
    "ranked_disciplines_by_country.show()\n"
   ]
  },
  {
   "cell_type": "markdown",
   "metadata": {
    "application/vnd.databricks.v1+cell": {
     "cellMetadata": {},
     "inputWidgets": {},
     "nuid": "94c78ddc-a536-47ba-a65c-2e8f0cb2bca0",
     "showTitle": false,
     "tableResultSettingsMap": {},
     "title": ""
    }
   },
   "source": [
    "#####\"Event Participation Insights\" Transformations"
   ]
  },
  {
   "cell_type": "code",
   "execution_count": 0,
   "metadata": {
    "application/vnd.databricks.v1+cell": {
     "cellMetadata": {
      "byteLimit": 2048000,
      "rowLimit": 10000
     },
     "inputWidgets": {},
     "nuid": "e1a519bc-7c86-4ed1-bdc5-d8fa6d7ee06a",
     "showTitle": false,
     "tableResultSettingsMap": {},
     "title": ""
    }
   },
   "outputs": [],
   "source": [
    "from pyspark.sql.functions import col, countDistinct, rank\n",
    "from pyspark.sql.window import Window\n",
    "\n",
    "# Load the teams and entriesgender tables\n",
    "teams_path = \"/mnt/tokyo-olympics-data/raw-data/teams.parquet\"\n",
    "entriesgender_path = \"/mnt/tokyo-olympics-data/raw-data/entriesgender.parquet\"\n",
    "\n",
    "teams_df = spark.read.format(\"parquet\").load(teams_path)\n",
    "entriesgender_df = spark.read.format(\"parquet\").load(entriesgender_path)\n",
    "\n",
    "# Transformation 1: Calculate total number of events grouped by NOC and Discipline\n",
    "event_summary = teams_df.groupBy(\"NOC\", \"Discipline\").agg(\n",
    "    countDistinct(\"Event\").alias(\"TotalEvents\")\n",
    ")\n",
    "\n",
    "# Transformation 2: Combine with gender distribution data\n",
    "event_participation = event_summary.join(\n",
    "    entriesgender_df,\n",
    "    \"Discipline\",\n",
    "    how=\"inner\"\n",
    ").select(\n",
    "    col(\"NOC\"),\n",
    "    col(\"Discipline\"),\n",
    "    col(\"TotalEvents\"),\n",
    "    col(\"Female\").cast(\"int\").alias(\"FemaleParticipants\"),\n",
    "    col(\"Male\").cast(\"int\").alias(\"MaleParticipants\"),\n",
    "    col(\"Total\").cast(\"int\").alias(\"TotalParticipants\")\n",
    ")\n",
    "\n",
    "# Transformation 3: Rank disciplines within each NOC by event participation\n",
    "windowSpec = Window.partitionBy(\"NOC\").orderBy(col(\"TotalEvents\").desc())\n",
    "\n",
    "ranked_event_participation = event_participation.withColumn(\n",
    "    \"RankByEvents\", rank().over(windowSpec)\n",
    ")\n",
    "\n",
    "# Save the transformed data back to ADLS\n",
    "event_summary_path = \"/mnt/tokyo-olympics-data/transformed-data/event_summary\"\n",
    "ranked_event_participation_path = \"/mnt/tokyo-olympics-data/transformed-data/ranked_event_participation\"\n",
    "\n",
    "event_participation.write.format(\"parquet\").mode(\"overwrite\").save(event_summary_path)\n",
    "ranked_event_participation.write.format(\"parquet\").mode(\"overwrite\").save(ranked_event_participation_path)\n",
    "\n",
    "# Display the results\n",
    "event_participation.show()\n",
    "ranked_event_participation.show()\n"
   ]
  },
  {
   "cell_type": "markdown",
   "metadata": {
    "application/vnd.databricks.v1+cell": {
     "cellMetadata": {},
     "inputWidgets": {},
     "nuid": "c4607376-8143-4239-b3c8-943ed28ded5d",
     "showTitle": false,
     "tableResultSettingsMap": {},
     "title": ""
    }
   },
   "source": [
    "#####\"Comprehensive Medal and Athlete Analysis\" Transformations"
   ]
  },
  {
   "cell_type": "code",
   "execution_count": 0,
   "metadata": {
    "application/vnd.databricks.v1+cell": {
     "cellMetadata": {
      "byteLimit": 2048000,
      "rowLimit": 10000
     },
     "inputWidgets": {},
     "nuid": "2923cc08-6709-4443-a075-d36bdc9b222b",
     "showTitle": false,
     "tableResultSettingsMap": {},
     "title": ""
    }
   },
   "outputs": [],
   "source": [
    "from pyspark.sql.functions import col, count, sum as _sum, expr, rank\n",
    "from pyspark.sql.window import Window\n",
    "\n",
    "# Load the medals and athletes tables\n",
    "medals_path = \"/mnt/tokyo-olympics-data/raw-data/medals.parquet\"\n",
    "athletes_path = \"/mnt/tokyo-olympics-data/raw-data/athletes.parquet\"\n",
    "\n",
    "medals_df = spark.read.format(\"parquet\").load(medals_path)\n",
    "athletes_df = spark.read.format(\"parquet\").load(athletes_path)\n",
    "\n",
    "# Transformation 1: Calculate total number of athletes per country\n",
    "country_athletes = athletes_df.groupBy(\"NOC\").agg(\n",
    "    count(\"Name\").alias(\"TotalAthletes\")\n",
    ")\n",
    "\n",
    "# Transformation 2: Combine medals and athlete data\n",
    "medal_athlete_analysis = medals_df.join(\n",
    "    country_athletes,\n",
    "    medals_df.TeamNOC == country_athletes.NOC,\n",
    "    how=\"inner\"\n",
    ").select(\n",
    "    col(\"TeamNOC\").alias(\"NOC\"),\n",
    "    col(\"TotalAthletes\"),\n",
    "    col(\"Gold\"),\n",
    "    col(\"Silver\"),\n",
    "    col(\"Bronze\"),\n",
    "    col(\"Total\").alias(\"TotalMedals\")\n",
    ").withColumn(\n",
    "    \"MedalsPerAthlete\", expr(\"ROUND(TotalMedals / TotalAthletes, 2)\")\n",
    ")\n",
    "\n",
    "# Transformation 3: Rank countries based on medal efficiency\n",
    "windowSpecEfficiency = Window.orderBy(col(\"MedalsPerAthlete\").desc())\n",
    "\n",
    "ranked_medal_efficiency = medal_athlete_analysis.withColumn(\n",
    "    \"RankByEfficiency\", rank().over(windowSpecEfficiency)\n",
    ")\n",
    "\n",
    "# Save the transformed data back to ADLS\n",
    "medal_athlete_analysis_path = \"/mnt/tokyo-olympics-data/transformed-data/medal_athlete_analysis\"\n",
    "ranked_medal_efficiency_path = \"/mnt/tokyo-olympics-data/transformed-data/ranked_medal_efficiency\"\n",
    "\n",
    "medal_athlete_analysis.write.format(\"parquet\").mode(\"overwrite\").save(medal_athlete_analysis_path)\n",
    "ranked_medal_efficiency.write.format(\"parquet\").mode(\"overwrite\").save(ranked_medal_efficiency_path)\n",
    "\n",
    "# Display the results\n",
    "medal_athlete_analysis.show()\n",
    "ranked_medal_efficiency.show()\n"
   ]
  },
  {
   "cell_type": "markdown",
   "metadata": {
    "application/vnd.databricks.v1+cell": {
     "cellMetadata": {},
     "inputWidgets": {},
     "nuid": "c6577628-7814-4d49-b668-278f5cebff98",
     "showTitle": false,
     "tableResultSettingsMap": {},
     "title": ""
    }
   },
   "source": [
    "#####\"Discipline-Level Gender and Medal Insights\" Transformations"
   ]
  },
  {
   "cell_type": "code",
   "execution_count": 0,
   "metadata": {
    "application/vnd.databricks.v1+cell": {
     "cellMetadata": {
      "byteLimit": 2048000,
      "rowLimit": 10000
     },
     "inputWidgets": {},
     "nuid": "9c5231e7-86c6-4909-aee3-3b9f1ad623fe",
     "showTitle": false,
     "tableResultSettingsMap": {},
     "title": ""
    }
   },
   "outputs": [],
   "source": [
    "from pyspark.sql.functions import col, sum as _sum, expr, rank\n",
    "from pyspark.sql.window import Window\n",
    "\n",
    "# Load the required tables\n",
    "entriesgender_path = \"/mnt/tokyo-olympics-data/raw-data/entriesgender.parquet\"\n",
    "medals_path = \"/mnt/tokyo-olympics-data/raw-data/medals.parquet\"\n",
    "teams_path = \"/mnt/tokyo-olympics-data/raw-data/teams.parquet\"\n",
    "\n",
    "entriesgender_df = spark.read.format(\"parquet\").load(entriesgender_path)\n",
    "medals_df = spark.read.format(\"parquet\").load(medals_path)\n",
    "teams_df = spark.read.format(\"parquet\").load(teams_path)\n",
    "\n",
    "# Transformation 1: Aggregate total medals by Discipline\n",
    "medals_by_discipline = medals_df.join(\n",
    "    teams_df,\n",
    "    medals_df.TeamNOC == teams_df.NOC,\n",
    "    how=\"inner\"\n",
    ").groupBy(\"Discipline\").agg(\n",
    "    _sum(\"Gold\").alias(\"TotalGold\"),\n",
    "    _sum(\"Silver\").alias(\"TotalSilver\"),\n",
    "    _sum(\"Bronze\").alias(\"TotalBronze\"),\n",
    "    _sum(\"Total\").alias(\"TotalMedals\")\n",
    ")\n",
    "\n",
    "# Transformation 2: Combine gender participation with medal data\n",
    "discipline_gender_medals = medals_by_discipline.join(\n",
    "    entriesgender_df,\n",
    "    \"Discipline\",\n",
    "    how=\"inner\"\n",
    ").select(\n",
    "    col(\"Discipline\"),\n",
    "    col(\"TotalGold\"),\n",
    "    col(\"TotalSilver\"),\n",
    "    col(\"TotalBronze\"),\n",
    "    col(\"TotalMedals\"),\n",
    "    col(\"Female\").cast(\"int\").alias(\"FemaleParticipants\"),\n",
    "    col(\"Male\").cast(\"int\").alias(\"MaleParticipants\"),\n",
    "    col(\"Total\").cast(\"int\").alias(\"TotalParticipants\")\n",
    ").withColumn(\n",
    "    \"FemalePercentage\", expr(\"ROUND((FemaleParticipants / TotalParticipants) * 100, 2)\")\n",
    ").withColumn(\n",
    "    \"MalePercentage\", expr(\"ROUND((MaleParticipants / TotalParticipants) * 100, 2)\")\n",
    ")\n",
    "\n",
    "# Transformation 3: Rank disciplines by total medals and gender balance\n",
    "windowSpecMedals = Window.orderBy(col(\"TotalMedals\").desc())\n",
    "windowSpecFemale = Window.orderBy(col(\"FemalePercentage\").desc())\n",
    "\n",
    "ranked_discipline_gender = discipline_gender_medals.withColumn(\n",
    "    \"RankByMedals\", rank().over(windowSpecMedals)\n",
    ").withColumn(\n",
    "    \"RankByFemaleParticipation\", rank().over(windowSpecFemale)\n",
    ")\n",
    "\n",
    "# Save the transformed data back to ADLS\n",
    "discipline_gender_medals_path = \"/mnt/tokyo-olympics-data/transformed-data/discipline_gender_medals\"\n",
    "ranked_discipline_gender_path = \"/mnt/tokyo-olympics-data/transformed-data/ranked_discipline_gender\"\n",
    "\n",
    "discipline_gender_medals.write.format(\"parquet\").mode(\"overwrite\").save(discipline_gender_medals_path)\n",
    "ranked_discipline_gender.write.format(\"parquet\").mode(\"overwrite\").save(ranked_discipline_gender_path)\n",
    "\n",
    "# Display the results\n",
    "discipline_gender_medals.show()\n",
    "ranked_discipline_gender.show()\n"
   ]
  },
  {
   "cell_type": "markdown",
   "metadata": {
    "application/vnd.databricks.v1+cell": {
     "cellMetadata": {},
     "inputWidgets": {},
     "nuid": "7726bb37-d10b-4b87-87de-b4f2463d588d",
     "showTitle": false,
     "tableResultSettingsMap": {},
     "title": ""
    }
   },
   "source": [
    "#####Continent Mapping DataFrame Creation"
   ]
  },
  {
   "cell_type": "code",
   "execution_count": 0,
   "metadata": {
    "application/vnd.databricks.v1+cell": {
     "cellMetadata": {
      "byteLimit": 2048000,
      "rowLimit": 10000
     },
     "inputWidgets": {},
     "nuid": "fda4416f-f4e0-4ccb-b208-ba437f0e0aa3",
     "showTitle": false,
     "tableResultSettingsMap": {},
     "title": ""
    }
   },
   "outputs": [],
   "source": [
    "from pyspark.sql import SparkSession\n",
    "\n",
    "# Create Spark session if not already created\n",
    "spark = SparkSession.builder.appName(\"ContinentMapping\").getOrCreate()\n",
    "\n",
    "# Define the continent mapping manually\n",
    "continent_data = [\n",
    "    (\"United States of America\", \"North America\"),\n",
    "    (\"People's Republic of China\", \"Asia\"),\n",
    "    (\"Japan\", \"Asia\"),\n",
    "    (\"Great Britain\", \"Europe\"),\n",
    "    (\"ROC\", \"Europe\"),\n",
    "    (\"Australia\", \"Oceania\"),\n",
    "    (\"Netherlands\", \"Europe\"),\n",
    "    (\"France\", \"Europe\"),\n",
    "    (\"Germany\", \"Europe\"),\n",
    "    (\"Italy\", \"Europe\"),\n",
    "    (\"Canada\", \"North America\"),\n",
    "    (\"Brazil\", \"South America\"),\n",
    "    (\"New Zealand\", \"Oceania\"),\n",
    "    (\"Cuba\", \"North America\"),\n",
    "    (\"Hungary\", \"Europe\"),\n",
    "    (\"Republic of Korea\", \"Asia\"),\n",
    "    (\"Poland\", \"Europe\"),\n",
    "    (\"Czech Republic\", \"Europe\"),\n",
    "    (\"Kenya\", \"Africa\"),\n",
    "    (\"Norway\", \"Europe\"),\n",
    "    (\"Jamaica\", \"North America\"),\n",
    "    (\"Spain\", \"Europe\"),\n",
    "    (\"Sweden\", \"Europe\"),\n",
    "    (\"Switzerland\", \"Europe\"),\n",
    "    (\"Denmark\", \"Europe\"),\n",
    "    (\"Croatia\", \"Europe\"),\n",
    "    (\"Islamic Republic of Iran\", \"Asia\"),\n",
    "    (\"Serbia\", \"Europe\"),\n",
    "    (\"Belgium\", \"Europe\"),\n",
    "    (\"Bulgaria\", \"Europe\"),\n",
    "    (\"Slovenia\", \"Europe\"),\n",
    "    (\"Uzbekistan\", \"Asia\"),\n",
    "    (\"Georgia\", \"Asia\"),\n",
    "    (\"Chinese Taipei\", \"Asia\"),\n",
    "    (\"Turkey\", \"Asia\"),\n",
    "    (\"Greece\", \"Europe\"),\n",
    "    (\"Uganda\", \"Africa\"),\n",
    "    (\"Ecuador\", \"South America\"),\n",
    "    (\"Ireland\", \"Europe\"),\n",
    "    (\"Israel\", \"Asia\"),\n",
    "    (\"Qatar\", \"Asia\"),\n",
    "    (\"Bahamas\", \"North America\"),\n",
    "    (\"Kosovo\", \"Europe\"),\n",
    "    (\"Ukraine\", \"Europe\"),\n",
    "    (\"Belarus\", \"Europe\"),\n",
    "    (\"Romania\", \"Europe\"),\n",
    "    (\"Venezuela\", \"South America\"),\n",
    "    (\"India\", \"Asia\"),\n",
    "    (\"Hong Kong, China\", \"Asia\"),\n",
    "    (\"Philippines\", \"Asia\"),\n",
    "    (\"Slovakia\", \"Europe\"),\n",
    "    (\"South Africa\", \"Africa\"),\n",
    "    (\"Austria\", \"Europe\"),\n",
    "    (\"Egypt\", \"Africa\"),\n",
    "    (\"Indonesia\", \"Asia\"),\n",
    "    (\"Ethiopia\", \"Africa\"),\n",
    "    (\"Portugal\", \"Europe\"),\n",
    "    (\"Tunisia\", \"Africa\"),\n",
    "    (\"Estonia\", \"Europe\"),\n",
    "    (\"Fiji\", \"Oceania\"),\n",
    "    (\"Latvia\", \"Europe\"),\n",
    "    (\"Thailand\", \"Asia\"),\n",
    "    (\"Bermuda\", \"North America\"),\n",
    "    (\"Morocco\", \"Africa\"),\n",
    "    (\"Puerto Rico\", \"North America\"),\n",
    "    (\"Colombia\", \"South America\"),\n",
    "    (\"Azerbaijan\", \"Asia\"),\n",
    "    (\"Dominican Republic\", \"North America\"),\n",
    "    (\"Armenia\", \"Asia\"),\n",
    "    (\"Kyrgyzstan\", \"Asia\"),\n",
    "    (\"Mongolia\", \"Asia\"),\n",
    "    (\"Argentina\", \"South America\"),\n",
    "    (\"San Marino\", \"Europe\"),\n",
    "    (\"Jordan\", \"Asia\"),\n",
    "    (\"Malaysia\", \"Asia\"),\n",
    "    (\"Nigeria\", \"Africa\"),\n",
    "    (\"Bahrain\", \"Asia\"),\n",
    "    (\"Saudi Arabia\", \"Asia\"),\n",
    "    (\"Lithuania\", \"Europe\"),\n",
    "    (\"North Macedonia\", \"Europe\"),\n",
    "    (\"Namibia\", \"Africa\"),\n",
    "    (\"Turkmenistan\", \"Asia\"),\n",
    "    (\"Kazakhstan\", \"Asia\"),\n",
    "    (\"Mexico\", \"North America\"),\n",
    "    (\"Finland\", \"Europe\"),\n",
    "    (\"Botswana\", \"Africa\"),\n",
    "    (\"Burkina Faso\", \"Africa\"),\n",
    "    (\"Côte d'Ivoire\", \"Africa\"),\n",
    "    (\"Ghana\", \"Africa\"),\n",
    "    (\"Grenada\", \"North America\"),\n",
    "    (\"Kuwait\", \"Asia\"),\n",
    "    (\"Republic of Moldova\", \"Europe\"),\n",
    "    (\"Syrian Arab Republic\", \"Asia\"),\n",
    "]\n",
    "\n",
    "# Create a DataFrame for continent mapping\n",
    "continent_mapping_df = spark.createDataFrame(continent_data, [\"Team NOC\", \"Continent\"])\n",
    "\n",
    "# Save the Continent Mapping DataFrame to ADLS (optional)\n",
    "continent_mapping_path = \"/mnt/tokyo-olympics-data/raw-data/continent_mapping.parquet\"\n",
    "continent_mapping_df.write.format(\"parquet\").mode(\"overwrite\").save(continent_mapping_path)\n",
    "\n",
    "# Display the Continent Mapping DataFrame\n",
    "continent_mapping_df.show()\n"
   ]
  },
  {
   "cell_type": "markdown",
   "metadata": {
    "application/vnd.databricks.v1+cell": {
     "cellMetadata": {},
     "inputWidgets": {},
     "nuid": "db12ec0e-611f-49b6-ba53-f6148c96043d",
     "showTitle": false,
     "tableResultSettingsMap": {},
     "title": ""
    }
   },
   "source": [
    "#####\"Overall Performance Analysis by Continent\" Transformations"
   ]
  },
  {
   "cell_type": "code",
   "execution_count": 0,
   "metadata": {
    "application/vnd.databricks.v1+cell": {
     "cellMetadata": {
      "byteLimit": 2048000,
      "rowLimit": 10000
     },
     "inputWidgets": {},
     "nuid": "222f194a-5daf-4022-8ed1-446eba56dc3c",
     "showTitle": false,
     "tableResultSettingsMap": {},
     "title": ""
    }
   },
   "outputs": [],
   "source": [
    "from pyspark.sql.functions import col, count, sum as _sum, expr\n",
    "\n",
    "# Load the required tables\n",
    "medals_path = \"/mnt/tokyo-olympics-data/raw-data/medals.parquet\"\n",
    "athletes_path = \"/mnt/tokyo-olympics-data/raw-data/athletes.parquet\"\n",
    "continent_mapping_path = \"/mnt/tokyo-olympics-data/raw-data/continent_mapping.parquet\"\n",
    "\n",
    "medals_df = spark.read.format(\"parquet\").load(medals_path)\n",
    "athletes_df = spark.read.format(\"parquet\").load(athletes_path)\n",
    "continent_mapping_df = spark.read.format(\"parquet\").load(continent_mapping_path)\n",
    "\n",
    "# Step 1: Join medals and continent mapping to associate continents with medals\n",
    "medals_with_continents = medals_df.join(\n",
    "    continent_mapping_df,\n",
    "    medals_df.TeamNOC == continent_mapping_df[\"Team NOC\"],\n",
    "    how=\"inner\"\n",
    ").select(\n",
    "    col(\"Continent\"),\n",
    "    col(\"Gold\"),\n",
    "    col(\"Silver\"),\n",
    "    col(\"Bronze\"),\n",
    "    col(\"Total\").alias(\"TotalMedals\")\n",
    ")\n",
    "\n",
    "# Step 2: Aggregate medal counts by continent\n",
    "continent_medals = medals_with_continents.groupBy(\"Continent\").agg(\n",
    "    _sum(\"Gold\").alias(\"TotalGold\"),\n",
    "    _sum(\"Silver\").alias(\"TotalSilver\"),\n",
    "    _sum(\"Bronze\").alias(\"TotalBronze\"),\n",
    "    _sum(\"TotalMedals\").alias(\"TotalMedalsByContinent\")\n",
    ")\n",
    "\n",
    "# Step 3: Join athletes with continent mapping for participation data\n",
    "athletes_with_continents = athletes_df.join(\n",
    "    continent_mapping_df,\n",
    "    athletes_df.NOC == continent_mapping_df[\"Team NOC\"],\n",
    "    how=\"inner\"\n",
    ").select(\n",
    "    col(\"Continent\"),\n",
    "    col(\"Name\")\n",
    ")\n",
    "\n",
    "# Step 4: Calculate athlete participation by continent\n",
    "continent_participation = athletes_with_continents.groupBy(\"Continent\").agg(\n",
    "    count(\"Name\").alias(\"TotalAthletes\")\n",
    ")\n",
    "\n",
    "# Step 5: Combine medal and participation data to calculate efficiency\n",
    "continent_performance = continent_medals.join(\n",
    "    continent_participation,\n",
    "    \"Continent\",\n",
    "    how=\"inner\"\n",
    ").withColumn(\n",
    "    \"MedalsPerAthlete\", expr(\"ROUND(TotalMedalsByContinent / TotalAthletes, 2)\")\n",
    ")\n",
    "\n",
    "# Save the transformed data back to ADLS\n",
    "continent_performance_path = \"/mnt/tokyo-olympics-data/transformed-data/continent_performance\"\n",
    "\n",
    "continent_performance.write.format(\"parquet\").mode(\"overwrite\").save(continent_performance_path)\n",
    "\n",
    "# Display the results\n",
    "continent_performance.show()\n"
   ]
  }
 ],
 "metadata": {
  "application/vnd.databricks.v1+notebook": {
   "computePreferences": null,
   "dashboards": [],
   "environmentMetadata": {
    "base_environment": "",
    "client": "1"
   },
   "language": "python",
   "notebookMetadata": {
    "mostRecentlyExecutedCommandWithImplicitDF": {
     "commandId": 5415373645315060,
     "dataframes": [
      "_sqldf"
     ]
    },
    "pythonIndentUnit": 4
   },
   "notebookName": "tokyo-olympics-transformations",
   "widgets": {}
  },
  "language_info": {
   "name": "python"
  }
 },
 "nbformat": 4,
 "nbformat_minor": 0
}
