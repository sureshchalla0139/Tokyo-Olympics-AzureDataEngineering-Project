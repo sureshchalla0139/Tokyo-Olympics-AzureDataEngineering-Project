{
 "cells": [
  {
   "cell_type": "markdown",
   "metadata": {
    "application/vnd.databricks.v1+cell": {
     "cellMetadata": {},
     "inputWidgets": {},
     "nuid": "e4a33c88-4e81-49df-83ed-07d0b6c4fda8",
     "showTitle": false,
     "tableResultSettingsMap": {},
     "title": ""
    }
   },
   "source": [
    "##### Secret Key and Scope"
   ]
  },
  {
   "cell_type": "code",
   "execution_count": 0,
   "metadata": {
    "application/vnd.databricks.v1+cell": {
     "cellMetadata": {
      "byteLimit": 2048000,
      "rowLimit": 10000
     },
     "inputWidgets": {},
     "nuid": "8b0b85a1-8272-46b9-9052-c287409610b3",
     "showTitle": false,
     "tableResultSettingsMap": {},
     "title": ""
    }
   },
   "outputs": [],
   "source": [
    "df=dbutils.secrets.get(scope=\"key-vault-scope\",key=\"app-secrect-key\")"
   ]
  },
  {
   "cell_type": "code",
   "execution_count": 0,
   "metadata": {
    "application/vnd.databricks.v1+cell": {
     "cellMetadata": {
      "byteLimit": 2048000,
      "rowLimit": 10000
     },
     "inputWidgets": {},
     "nuid": "43376fa4-44e8-435c-8a93-3e520c666d1c",
     "showTitle": false,
     "tableResultSettingsMap": {},
     "title": ""
    }
   },
   "outputs": [],
   "source": [
    "dbutils.secrets.listScopes()"
   ]
  },
  {
   "cell_type": "markdown",
   "metadata": {
    "application/vnd.databricks.v1+cell": {
     "cellMetadata": {},
     "inputWidgets": {},
     "nuid": "be822c7d-e5bc-47d7-a04c-2bb1cd608fae",
     "showTitle": false,
     "tableResultSettingsMap": {},
     "title": ""
    }
   },
   "source": [
    "##### Azure Datalake storage with Databricks"
   ]
  },
  {
   "cell_type": "code",
   "execution_count": 0,
   "metadata": {
    "application/vnd.databricks.v1+cell": {
     "cellMetadata": {
      "byteLimit": 2048000,
      "rowLimit": 10000
     },
     "inputWidgets": {},
     "nuid": "7be5576b-14c8-4204-b6a3-9c9607f50061",
     "showTitle": false,
     "tableResultSettingsMap": {},
     "title": ""
    }
   },
   "outputs": [],
   "source": [
    "configs = {\"fs.azure.account.auth.type\": \"OAuth\",\n",
    "          \"fs.azure.account.oauth.provider.type\": \"org.apache.hadoop.fs.azurebfs.oauth2.ClientCredsTokenProvider\",\n",
    "          \"fs.azure.account.oauth2.client.id\": \"56c1b601-2d0b-456e-966f-5153657934c6\",\n",
    "          \"fs.azure.account.oauth2.client.secret\": dbutils.secrets.get(scope=\"key-vault-scope\",key=\"app-secrect-key\"),\n",
    "          \"fs.azure.account.oauth2.client.endpoint\": \"https://login.microsoftonline.com/fdc798aa-6f15-4e72-bf4a-6c813690fc75/oauth2/token\"}\n",
    "\n",
    "# Optionally, you can add <directory-name> to the source URI of your mount point.\n",
    "dbutils.fs.mount(\n",
    "  source = \"abfss://tokyo-olympics@adlsgen2tokyoolympics.dfs.core.windows.net/\",\n",
    "  mount_point = \"/mnt/tokyo-olympics-data\",\n",
    "  extra_configs = configs)"
   ]
  },
  {
   "cell_type": "code",
   "execution_count": 0,
   "metadata": {
    "application/vnd.databricks.v1+cell": {
     "cellMetadata": {
      "byteLimit": 2048000,
      "rowLimit": 10000
     },
     "inputWidgets": {},
     "nuid": "df73bb95-3b4e-4db2-82ba-b822c9e30be6",
     "showTitle": false,
     "tableResultSettingsMap": {},
     "title": ""
    }
   },
   "outputs": [],
   "source": [
    "%fs\n",
    "ls mnt/tokyo-olympics-data"
   ]
  },
  {
   "cell_type": "code",
   "execution_count": 0,
   "metadata": {
    "application/vnd.databricks.v1+cell": {
     "cellMetadata": {
      "byteLimit": 2048000,
      "rowLimit": 10000
     },
     "inputWidgets": {},
     "nuid": "d27398a2-cc30-4c8d-83fe-7c17ee3923f3",
     "showTitle": false,
     "tableResultSettingsMap": {},
     "title": ""
    }
   },
   "outputs": [],
   "source": [
    "%fs\n",
    "ls mnt/tokyo-olympics-data/raw-data"
   ]
  },
  {
   "cell_type": "markdown",
   "metadata": {
    "application/vnd.databricks.v1+cell": {
     "cellMetadata": {},
     "inputWidgets": {},
     "nuid": "1ac99858-af12-400f-92d7-95c2b764e61d",
     "showTitle": false,
     "tableResultSettingsMap": {},
     "title": ""
    }
   },
   "source": [
    "###Tokyo Olmpics Transformation"
   ]
  },
  {
   "cell_type": "markdown",
   "metadata": {
    "application/vnd.databricks.v1+cell": {
     "cellMetadata": {},
     "inputWidgets": {},
     "nuid": "7ba38b50-9eae-4720-a031-b7305b2d1f62",
     "showTitle": false,
     "tableResultSettingsMap": {},
     "title": ""
    }
   },
   "source": [
    "#####\"Medals Overview\" Transformations"
   ]
  },
  {
   "cell_type": "code",
   "execution_count": 0,
   "metadata": {
    "application/vnd.databricks.v1+cell": {
     "cellMetadata": {
      "byteLimit": 2048000,
      "rowLimit": 10000
     },
     "inputWidgets": {},
     "nuid": "123ca093-5633-4ffd-b221-29745ce9c4f0",
     "showTitle": false,
     "tableResultSettingsMap": {},
     "title": ""
    }
   },
   "outputs": [],
   "source": [
    "from pyspark.sql import SparkSession\n",
    "from pyspark.sql.functions import col, sum as _sum, rank\n",
    "from pyspark.sql.window import Window\n",
    "\n",
    "# Create Spark session (if not already created)\n",
    "spark = SparkSession.builder.appName(\"TokyoOlympics\").getOrCreate()\n",
    "\n",
    "# Load the medals table from the mounted Parquet path\n",
    "medals_path = \"/mnt/tokyo-olympics-data/raw-data/medals.parquet\"\n",
    "medals_df = spark.read.format(\"parquet\").load(medals_path)\n",
    "medals_df.show()\n",
    "# Transformation 1: Aggregate medal counts by TeamNOC\n",
    "medals_summary = medals_df.groupBy(\"TeamNOC\").agg(\n",
    "    _sum(\"Gold\").alias(\"TotalGold\"),\n",
    "    _sum(\"Silver\").alias(\"TotalSilver\"),\n",
    "    _sum(\"Bronze\").alias(\"TotalBronze\"),\n",
    "    _sum(\"Total\").alias(\"TotalMedals\")\n",
    ")\n",
    "\n",
    "# Transformation 2: Rank countries by Total Medals and Gold Medals\n",
    "windowSpecTotal = Window.orderBy(col(\"TotalMedals\").desc())\n",
    "windowSpecGold = Window.orderBy(col(\"TotalGold\").desc())\n",
    "\n",
    "ranked_medals = medals_summary.withColumn(\"RankByTotalMedals\", rank().over(windowSpecTotal)) \\\n",
    "                               .withColumn(\"RankByGoldMedals\", rank().over(windowSpecGold))\n",
    "\n",
    "# Save the transformed data back to a Parquet file in ADLS\n",
    "output_path = \"/mnt/tokyo-olympics-data/transformed-data/medals_summary\"\n",
    "ranked_medals.write.format(\"parquet\").mode(\"overwrite\").save(output_path)\n",
    "\n",
    "# Display the final DataFrame\n",
    "ranked_medals.show()\n"
   ]
  },
  {
   "cell_type": "code",
   "execution_count": 0,
   "metadata": {
    "application/vnd.databricks.v1+cell": {
     "cellMetadata": {
      "byteLimit": 2048000,
      "rowLimit": 10000
     },
     "inputWidgets": {},
     "nuid": "9992c2a2-d498-4620-9c0d-6c5a7e15bf68",
     "showTitle": false,
     "tableResultSettingsMap": {},
     "title": ""
    }
   },
   "outputs": [],
   "source": [
    "%fs\n",
    "ls /mnt/tokyo-olympics-data/transformed-data"
   ]
  },
  {
   "cell_type": "markdown",
   "metadata": {
    "application/vnd.databricks.v1+cell": {
     "cellMetadata": {},
     "inputWidgets": {},
     "nuid": "cba91163-ffc8-4d39-b2c8-fa4e10e0d8f1",
     "showTitle": false,
     "tableResultSettingsMap": {},
     "title": ""
    }
   },
   "source": [
    "#####\"Athletes Participation\" Transformations"
   ]
  },
  {
   "cell_type": "code",
   "execution_count": 0,
   "metadata": {
    "application/vnd.databricks.v1+cell": {
     "cellMetadata": {
      "byteLimit": 2048000,
      "rowLimit": 10000
     },
     "inputWidgets": {},
     "nuid": "380b0dcf-135c-4316-bbe0-54717e7e1b20",
     "showTitle": false,
     "tableResultSettingsMap": {},
     "title": ""
    }
   },
   "outputs": [],
   "source": [
    "from pyspark.sql.functions import countDistinct\n",
    "\n",
    "# Load the athletes table from the mounted Parquet path\n",
    "athletes_path = \"/mnt/tokyo-olympics-data/raw-data/athletes.parquet\"\n",
    "athletes_df = spark.read.format(\"parquet\").load(athletes_path)\n",
    "\n",
    "# Transformation 1: Count athletes grouped by NOC and Discipline\n",
    "athletes_summary = athletes_df.groupBy(\"NOC\", \"Discipline\").agg(\n",
    "    countDistinct(\"Name\").alias(\"TotalAthletes\")\n",
    ")\n",
    "\n",
    "# Transformation 2: Get distinct athletes with their NOC and Discipline\n",
    "distinct_athletes = athletes_df.select(\"Name\", \"NOC\", \"Discipline\").distinct()\n",
    "\n",
    "# Save the transformed data back to ADLS\n",
    "athletes_summary_path = \"/mnt/tokyo-olympics-data/transformed-data/athletes_summary\"\n",
    "distinct_athletes_path = \"/mnt/tokyo-olympics-data/transformed-data/distinct_athletes\"\n",
    "\n",
    "athletes_summary.write.format(\"parquet\").mode(\"overwrite\").save(athletes_summary_path)\n",
    "distinct_athletes.write.format(\"parquet\").mode(\"overwrite\").save(distinct_athletes_path)\n",
    "\n",
    "# Display the results\n",
    "athletes_summary.show()\n",
    "distinct_athletes.show()\n"
   ]
  },
  {
   "cell_type": "markdown",
   "metadata": {
    "application/vnd.databricks.v1+cell": {
     "cellMetadata": {},
     "inputWidgets": {},
     "nuid": "a6c4bbb6-33ea-4f6d-a013-42cc193843ea",
     "showTitle": false,
     "tableResultSettingsMap": {},
     "title": ""
    }
   },
   "source": [
    "#####\"Gender Distribution\" Transformations"
   ]
  },
  {
   "cell_type": "code",
   "execution_count": 0,
   "metadata": {
    "application/vnd.databricks.v1+cell": {
     "cellMetadata": {
      "byteLimit": 2048000,
      "rowLimit": 10000
     },
     "inputWidgets": {},
     "nuid": "2592daef-6d41-40cd-aa98-28d69591ccd9",
     "showTitle": false,
     "tableResultSettingsMap": {},
     "title": ""
    }
   },
   "outputs": [],
   "source": [
    "from pyspark.sql.functions import col, expr\n",
    "\n",
    "# Load the entriesgender table from the mounted Parquet path\n",
    "entriesgender_path = \"/mnt/tokyo-olympics-data/raw-data/entriesgender.parquet\"\n",
    "entriesgender_df = spark.read.format(\"parquet\").load(entriesgender_path)\n",
    "\n",
    "# Transformation 1: Aggregate gender-wise participation by Discipline\n",
    "gender_summary = entriesgender_df.select( \\\n",
    "    \"Discipline\", \\\n",
    "    col(\"Female\").cast(\"int\").alias(\"FemaleParticipants\"), \\\n",
    "    col(\"Male\").cast(\"int\").alias(\"MaleParticipants\"), \\\n",
    "    col(\"Total\").cast(\"int\").alias(\"TotalParticipants\") \\\n",
    ")\n",
    "\n",
    "# Transformation 2: Calculate gender ratio (Female and Male percentage)\n",
    "gender_ratio = gender_summary.withColumn( \\\n",
    "    \"FemalePercentage\", expr(\"ROUND((FemaleParticipants / TotalParticipants) * 100, 2)\") \\\n",
    ").withColumn( \\\n",
    "    \"MalePercentage\", expr(\"ROUND((MaleParticipants / TotalParticipants) * 100, 2)\") \\\n",
    ")\n",
    "\n",
    "# Save the transformed data back to ADLS\n",
    "gender_summary_path = \"/mnt/tokyo-olympics-data/transformed-data/gender_summary\"\n",
    "\n",
    "gender_ratio.write.format(\"parquet\").mode(\"overwrite\").save(gender_summary_path)\n",
    "\n",
    "# Display the results\n",
    "gender_ratio.show()\n"
   ]
  }
 ],
 "metadata": {
  "application/vnd.databricks.v1+notebook": {
   "computePreferences": null,
   "dashboards": [],
   "environmentMetadata": {
    "base_environment": "",
    "client": "1"
   },
   "language": "python",
   "notebookMetadata": {
    "mostRecentlyExecutedCommandWithImplicitDF": {
     "commandId": 5415373645315060,
     "dataframes": [
      "_sqldf"
     ]
    },
    "pythonIndentUnit": 4
   },
   "notebookName": "tokyo-olympics-transformations",
   "widgets": {}
  },
  "language_info": {
   "name": "python"
  }
 },
 "nbformat": 4,
 "nbformat_minor": 0
}
